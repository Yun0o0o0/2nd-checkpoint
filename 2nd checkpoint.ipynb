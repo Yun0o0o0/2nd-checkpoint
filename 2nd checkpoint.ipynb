{
 "cells": [
  {
   "cell_type": "code",
   "execution_count": 58,
   "id": "e1ed2509",
   "metadata": {},
   "outputs": [],
   "source": [
    "#question1"
   ]
  },
  {
   "cell_type": "code",
   "execution_count": 55,
   "id": "3c7470f8",
   "metadata": {
    "scrolled": true
   },
   "outputs": [
    {
     "name": "stdout",
     "output_type": "stream",
     "text": [
      "enter your first name: younes\n"
     ]
    }
   ],
   "source": [
    "first_name=input(\"enter your first name: \")"
   ]
  },
  {
   "cell_type": "code",
   "execution_count": 56,
   "id": "6dca0a42",
   "metadata": {},
   "outputs": [
    {
     "name": "stdout",
     "output_type": "stream",
     "text": [
      "enter your last name: gaidi \n"
     ]
    }
   ],
   "source": [
    "last_name=input(\"enter your last name: \")"
   ]
  },
  {
   "cell_type": "code",
   "execution_count": 57,
   "id": "fcc8dbe8",
   "metadata": {},
   "outputs": [
    {
     "name": "stdout",
     "output_type": "stream",
     "text": [
      "gaidi younes\n"
     ]
    }
   ],
   "source": [
    "print(last_name+first_name)"
   ]
  },
  {
   "cell_type": "code",
   "execution_count": 11,
   "id": "12792c1d",
   "metadata": {},
   "outputs": [],
   "source": [
    "#question2"
   ]
  },
  {
   "cell_type": "code",
   "execution_count": 32,
   "id": "38dda4a2",
   "metadata": {},
   "outputs": [],
   "source": [
    "n=str(5)"
   ]
  },
  {
   "cell_type": "code",
   "execution_count": 36,
   "id": "3d138cee",
   "metadata": {},
   "outputs": [
    {
     "name": "stdout",
     "output_type": "stream",
     "text": [
      "615\n"
     ]
    }
   ],
   "source": [
    "print (int(n)+int(n+n)+int(n+n+n))"
   ]
  },
  {
   "cell_type": "code",
   "execution_count": 17,
   "id": "6a24e25a",
   "metadata": {},
   "outputs": [],
   "source": [
    "#question3"
   ]
  },
  {
   "cell_type": "code",
   "execution_count": 38,
   "id": "4735c375",
   "metadata": {
    "scrolled": true
   },
   "outputs": [
    {
     "name": "stdout",
     "output_type": "stream",
     "text": [
      "Enter a number: 2\n",
      "2 is Even\n"
     ]
    }
   ],
   "source": [
    "num = int(input(\"Enter a number: \"))\n",
    "if (num % 2) == 0:\n",
    "    print(\"{0} is Even\".format(num))\n",
    "else:\n",
    "    print(\"{0} is Odd\".format(num))"
   ]
  },
  {
   "cell_type": "code",
   "execution_count": 21,
   "id": "df55eaf2",
   "metadata": {},
   "outputs": [],
   "source": [
    "#question4"
   ]
  },
  {
   "cell_type": "code",
   "execution_count": 63,
   "id": "3f71c169",
   "metadata": {},
   "outputs": [
    {
     "name": "stdout",
     "output_type": "stream",
     "text": [
      "2002 2009 2016 2023 2037 2044 2051 2058 2072 2079 2086 2093 2107 2114 2121 2128 2142 2149 2156 2163 2177 2184 2191 2198 2212 2219 2226 2233 2247 2254 2261 2268 2282 2289 2296 2303 2317 2324 2331 2338 2352 2359 2366 2373 2387 2394 2401 2408 2422 2429 2436 2443 2457 2464 2471 2478 2492 2499 2506 2513 2527 2534 2541 2548 2562 2569 2576 2583 2597 2604 2611 2618 2632 2639 2646 2653 2667 2674 2681 2688 2702 2709 2716 2723 2737 2744 2751 2758 2772 2779 2786 2793 2807 2814 2821 2828 2842 2849 2856 2863 2877 2884 2891 2898 2912 2919 2926 2933 2947 2954 2961 2968 2982 2989 2996 3003 3017 3024 3031 3038 3052 3059 3066 3073 3087 3094 3101 3108 3122 3129 3136 3143 3157 3164 3171 3178 3192 3199 "
     ]
    }
   ],
   "source": [
    "for w in range(2000, 3200):\n",
    "    if (w%7==0) and (w%5!=0):\n",
    "        print(w,end=\" \")"
   ]
  },
  {
   "cell_type": "code",
   "execution_count": 60,
   "id": "b9f710e6",
   "metadata": {},
   "outputs": [],
   "source": [
    "#question5"
   ]
  },
  {
   "cell_type": "code",
   "execution_count": 79,
   "id": "3223c6a9",
   "metadata": {},
   "outputs": [
    {
     "name": "stdout",
     "output_type": "stream",
     "text": [
      "enter a number: 8\n",
      "fac of  8  is  40320\n"
     ]
    }
   ],
   "source": [
    "number=int(input(\"enter a number: \"))\n",
    "o=1\n",
    "for i in range(1,number+1):\n",
    "    o=o*i\n",
    "print(\"fac of \", number, \" is \", o)"
   ]
  },
  {
   "cell_type": "code",
   "execution_count": 80,
   "id": "24767027",
   "metadata": {},
   "outputs": [],
   "source": [
    "#question6"
   ]
  },
  {
   "cell_type": "code",
   "execution_count": 87,
   "id": "9d8ad8ac",
   "metadata": {},
   "outputs": [
    {
     "name": "stdout",
     "output_type": "stream",
     "text": [
      "enter something : younes\n",
      "final result :   yue\n"
     ]
    }
   ],
   "source": [
    "h=input(\"enter something : \")\n",
    "p=\" \"\n",
    "for i in range(len(h)):\n",
    "    if(i%2==0):\n",
    "        p=p+h[i]\n",
    "print(\"final result : \",p)"
   ]
  },
  {
   "cell_type": "code",
   "execution_count": 88,
   "id": "e513ba7e",
   "metadata": {},
   "outputs": [],
   "source": [
    "#question7"
   ]
  },
  {
   "cell_type": "code",
   "execution_count": 104,
   "id": "f5b36bc7",
   "metadata": {},
   "outputs": [
    {
     "name": "stdout",
     "output_type": "stream",
     "text": [
      "enter a value: 600\n",
      "discount= :  300.0\n"
     ]
    }
   ],
   "source": [
    "ttt=int(input(\"enter a value: \"))\n",
    "if(ttt>0):\n",
    "    if ttt>=500:\n",
    "        discount=ttt*0.5\n",
    "    elif ttt>=200:\n",
    "        discount=ttt*0.3\n",
    "    elif ttt<200:\n",
    "        discount=0.1*ttt\n",
    "print(\"discount= : \",discount)        "
   ]
  },
  {
   "cell_type": "code",
   "execution_count": null,
   "id": "f7d89619",
   "metadata": {},
   "outputs": [],
   "source": []
  }
 ],
 "metadata": {
  "kernelspec": {
   "display_name": "Python 3 (ipykernel)",
   "language": "python",
   "name": "python3"
  },
  "language_info": {
   "codemirror_mode": {
    "name": "ipython",
    "version": 3
   },
   "file_extension": ".py",
   "mimetype": "text/x-python",
   "name": "python",
   "nbconvert_exporter": "python",
   "pygments_lexer": "ipython3",
   "version": "3.9.12"
  }
 },
 "nbformat": 4,
 "nbformat_minor": 5
}
